{
 "cells": [
  {
   "cell_type": "code",
   "execution_count": 16,
   "metadata": {},
   "outputs": [
    {
     "name": "stdout",
     "output_type": "stream",
     "text": [
      "Name: Kamila Zeynolla\n",
      "Address: Nur-Sultan, Kazakhstan\n"
     ]
    }
   ],
   "source": [
    "name = 'Kamila Zeynolla'\n",
    "mail_address = \"Nur-Sultan, Kazakhstan\"\n",
    "print('Name: {}\\nAddress: {}'.format(name, mail_address))"
   ]
  },
  {
   "cell_type": "code",
   "execution_count": 17,
   "metadata": {},
   "outputs": [
    {
     "name": "stdout",
     "output_type": "stream",
     "text": [
      "Your name: Kamila\n",
      "Hello, Kamila\n"
     ]
    }
   ],
   "source": [
    "name = input(\"Your name: \")\n",
    "print(\"Hello, {}\".format(name))"
   ]
  },
  {
   "cell_type": "code",
   "execution_count": 15,
   "metadata": {},
   "outputs": [
    {
     "name": "stdout",
     "output_type": "stream",
     "text": [
      "Width: 6\n",
      "Length: 7\n",
      "Area: 42.0 math(m**2)\n"
     ]
    }
   ],
   "source": [
    "width = input(\"Width: \")\n",
    "length = input(\"Length: \")\n",
    "area = float(width)*float(length)\n",
    "print(\"Area: {} m^2\".format(area))"
   ]
  },
  {
   "cell_type": "code",
   "execution_count": 17,
   "metadata": {},
   "outputs": [
    {
     "name": "stdout",
     "output_type": "stream",
     "text": [
      "Width: 7\n",
      "Length: 7\n",
      "Area: 0.0011 acre\n"
     ]
    }
   ],
   "source": [
    "width = input(\"Width: \")\n",
    "length = input(\"Length: \")\n",
    "area = float(width)*float(length)\n",
    "print(\"Area: {} acre\".format(round(area/43560, 4)))"
   ]
  },
  {
   "cell_type": "code",
   "execution_count": 29,
   "metadata": {},
   "outputs": [
    {
     "name": "stdout",
     "output_type": "stream",
     "text": [
      "Small bottles: 56\n",
      "Large bottles: 78\n",
      "25.10 $\n"
     ]
    }
   ],
   "source": [
    "small = input('Small bottles: ')\n",
    "large = input('Large bottles: ')\n",
    "refund = int(small)*0.1+(int(large)*0.25)\n",
    "print(\"{:.2f} $\".format(refund))"
   ]
  },
  {
   "cell_type": "code",
   "execution_count": 34,
   "metadata": {},
   "outputs": [
    {
     "name": "stdout",
     "output_type": "stream",
     "text": [
      "Meal cost: 56\n",
      "72.80 $\n"
     ]
    }
   ],
   "source": [
    "cost = input('Meal cost: ')\n",
    "tip = int(cost)*0.18\n",
    "tax = int(cost)*0.12\n",
    "total = int(cost) + tip + tax\n",
    "print(\"{:.2f} $\".format(total))"
   ]
  },
  {
   "cell_type": "code",
   "execution_count": 37,
   "metadata": {},
   "outputs": [
    {
     "name": "stdout",
     "output_type": "stream",
     "text": [
      "Input a number: 5\n",
      "The sum of the ﬁrst 5 positive integers is 15.0\n"
     ]
    }
   ],
   "source": [
    "n = int(input('Input a number: '))\n",
    "total = n*(n+1)/2\n",
    "print('The sum of the ﬁrst {} positive integers is {}'.format(n, total))"
   ]
  },
  {
   "cell_type": "code",
   "execution_count": 38,
   "metadata": {},
   "outputs": [
    {
     "name": "stdout",
     "output_type": "stream",
     "text": [
      "Widges: 50\n",
      "Gizmos: 10\n",
      "Total weight is 4.87 kg\n"
     ]
    }
   ],
   "source": [
    "widgets = int(input('Widges: '))\n",
    "gizmos = int(input('Gizmos: '))\n",
    "weight = (widgets*75)+(gizmos*112)\n",
    "print(\"Total weight is {} kg\".format(weight/1000))"
   ]
  },
  {
   "cell_type": "code",
   "execution_count": 39,
   "metadata": {},
   "outputs": [
    {
     "name": "stdout",
     "output_type": "stream",
     "text": [
      "the amount of money deposited into the account: 1000\n",
      "the amount in the savings account after 1 is 1040.00$\n",
      "the amount in the savings account after 2 is 1081.60$\n",
      "the amount in the savings account after 3 is 1124.86$\n"
     ]
    }
   ],
   "source": [
    "money = int(input(\"the amount of money deposited into the account: \"))\n",
    "first_year = money*1.04\n",
    "second_year = first_year*1.04\n",
    "third_year = second_year*1.04\n",
    "print('the amount in the savings account after 1 is {:.2f}$'.format(first_year))\n",
    "print('the amount in the savings account after 2 is {:.2f}$'.format(second_year))\n",
    "print('the amount in the savings account after 3 is {:.2f}$'.format(third_year))"
   ]
  },
  {
   "cell_type": "code",
   "execution_count": 7,
   "metadata": {},
   "outputs": [
    {
     "name": "stdout",
     "output_type": "stream",
     "text": [
      "25\n",
      "6\n",
      "The sum of a and b is 31\n",
      "The difference when b is subtracted from a is 19\n",
      "The product of a and b is 150\n",
      "The quotient when a is divided by b is 4\n",
      "The remainder when a is divided by b is 1\n",
      "The result of log10 a is 1.3979400086720377\n"
     ]
    }
   ],
   "source": [
    "import math\n",
    "a = int(input())\n",
    "b = int(input())\n",
    "sum = a+b\n",
    "dif = a-b\n",
    "prod = a*b\n",
    "quotient = a//b\n",
    "remainder = a%b\n",
    "log = math.log10(a)\n",
    "print('The sum of a and b is {}'.format(sum))\n",
    "print('The difference when b is subtracted from a is {}'.format(dif))\n",
    "print('The product of a and b is {}'.format(prod))\n",
    "print('The quotient when a is divided by b is {}'.format(quotient))\n",
    "print('The remainder when a is divided by b is {}'.format(remainder))\n",
    "print('The result of log10 a is {}'.format(log))\n",
    "\n"
   ]
  },
  {
   "cell_type": "code",
   "execution_count": 54,
   "metadata": {},
   "outputs": [
    {
     "name": "stdout",
     "output_type": "stream",
     "text": [
      "24\n",
      "9.8 L/100km\n"
     ]
    }
   ],
   "source": [
    "mpg = input()\n",
    "canadian_unit = 235.215/float(mpg)\n",
    "print('{} L/100km'.format(round(canadian_unit, 1)))"
   ]
  },
  {
   "cell_type": "code",
   "execution_count": 2,
   "metadata": {},
   "outputs": [
    {
     "name": "stdout",
     "output_type": "stream",
     "text": [
      "latitude1: 1.2345\n",
      "longitude1: -0.324\n",
      "latitude2: 1.234567\n",
      "longitude2: -0.2345\n",
      "Distance is 9.94965428894217 km\n"
     ]
    }
   ],
   "source": [
    "from math import radians, cos, sin, acos\n",
    "lat1 = radians(float(input(\"latitude1: \")))\n",
    "lon1 = radians(float(input(\"longitude1: \")))\n",
    "lat2 = radians(float(input(\"latitude2: \")))\n",
    "lon2 = radians(float(input(\"longitude2: \")))\n",
    "\n",
    "distance = 6371.01*acos(sin(lat1)*sin(lat2)+cos(lat1)*cos(lat2)*cos(lon1-lon2))\n",
    "\n",
    "print('Distance is {} km'.format(distance))"
   ]
  },
  {
   "cell_type": "code",
   "execution_count": 5,
   "metadata": {},
   "outputs": [
    {
     "name": "stdout",
     "output_type": "stream",
     "text": [
      "Cents: 356\n",
      "1 toonies, 1 loonies, 2 quarters, 0 dimes, 1 nickles, 1 pennies\n"
     ]
    }
   ],
   "source": [
    "#13\n",
    "cent =  int(input(\"Cents: \"))\n",
    "t = cent//200\n",
    "l = (cent - t*200)//100\n",
    "q = (cent- (t*200+l*100))//25\n",
    "d = (cent- (t*200 + l*100 + q*25))//10\n",
    "n = (cent- (t*200+l*100+q*25+d*10))//5\n",
    "p = cent- (t*200+l*100+q*25+d*10+n*5)\n",
    "print(\"%d toonies, %d loonies, %d quarters, %d dimes, %d nickles, %d pennies\" %(t,l,q,d,n,p))"
   ]
  },
  {
   "cell_type": "code",
   "execution_count": 1,
   "metadata": {},
   "outputs": [
    {
     "name": "stdout",
     "output_type": "stream",
     "text": [
      "Feet: 2\n",
      "Inches: 4\n",
      "71.12 cm\n"
     ]
    }
   ],
   "source": [
    "#14\n",
    "feet = int(input('Feet: '))\n",
    "inches = int(input('Inches: '))\n",
    "height = feet*30.48 + inches*2.54\n",
    "print('{} cm'.format(height))"
   ]
  },
  {
   "cell_type": "code",
   "execution_count": 3,
   "metadata": {},
   "outputs": [
    {
     "name": "stdout",
     "output_type": "stream",
     "text": [
      "Feet: 3\n",
      "36 in\n",
      "1.0 yards\n",
      "0.0005681818181818182 miles\n"
     ]
    }
   ],
   "source": [
    "#15\n",
    "feet = int(input('Feet: '))\n",
    "inches = feet*12\n",
    "yards = feet/3\n",
    "miles = feet/5280\n",
    "print(inches, 'in')\n",
    "print(yards, 'yards')\n",
    "print(miles, 'miles')"
   ]
  },
  {
   "cell_type": "code",
   "execution_count": 5,
   "metadata": {},
   "outputs": [
    {
     "name": "stdout",
     "output_type": "stream",
     "text": [
      "Radius: 2\n",
      "The area of a circle is 12.566370614359172 m^2\n",
      "The volume of a sphere is 33.510321638291124 m^3\n"
     ]
    }
   ],
   "source": [
    "#16\n",
    "r = float(input('Radius: '))\n",
    "a = pi*r**2\n",
    "v = 4/3*pi*r**3\n",
    "print(\"The area of a circle is\", a, \"m^2\")\n",
    "print(\"The volume of a sphere is\", v, \"m^3\")"
   ]
  },
  {
   "cell_type": "code",
   "execution_count": 3,
   "metadata": {},
   "outputs": [
    {
     "name": "stdout",
     "output_type": "stream",
     "text": [
      "the mass: 2\n",
      "the temperature change: 20\n",
      "the total amount of energy is 167.44\n",
      "the cost of heating the water is 0.0004139488888888889\n"
     ]
    }
   ],
   "source": [
    "#17\n",
    "m = float(input('the mass: '))\n",
    "dt = float(input('the temperature change: '))\n",
    "c = 4.186\n",
    "q = m*c*dt\n",
    "print('the total amount of energy is', q)\n",
    "price = 8.9\n",
    "cost = g=(q/3.6e+6)*price\n",
    "print('the cost of heating the water is', cost)"
   ]
  },
  {
   "cell_type": "code",
   "execution_count": 7,
   "metadata": {},
   "outputs": [
    {
     "name": "stdout",
     "output_type": "stream",
     "text": [
      "Radius: 2\n",
      "Height: 4\n",
      "The volume of a cylinder is 50.3\n"
     ]
    }
   ],
   "source": [
    "#18\n",
    "r = float(input('Radius: '))\n",
    "h = float(input('Height: '))\n",
    "volume = pi*r**2*h\n",
    "print('The volume of a cylinder is' ,round(volume, 1))"
   ]
  },
  {
   "cell_type": "code",
   "execution_count": 10,
   "metadata": {},
   "outputs": [
    {
     "name": "stdout",
     "output_type": "stream",
     "text": [
      "Height: 100\n",
      "The object will hit the ground at 44.271887242357316 m/s\n"
     ]
    }
   ],
   "source": [
    "#19\n",
    "from math import sqrt\n",
    "h = float(input('Height: '))\n",
    "g = 9.8\n",
    "v = sqrt(2*g*h)\n",
    "print('The object will hit the ground at', v, 'm/s')"
   ]
  },
  {
   "cell_type": "code",
   "execution_count": 1,
   "metadata": {},
   "outputs": [
    {
     "name": "stdout",
     "output_type": "stream",
     "text": [
      "the pressure in Pascals: 20000000\n",
      "the volume in liters: 12\n",
      "the temperature in degrees Kelvin: 293.15\n",
      "the number of moles of gas in a SCUBA tank is 8462352658.166946\n"
     ]
    }
   ],
   "source": [
    "#20\n",
    "p = float(input('the pressure in Pascals: '))\n",
    "v = float(input('the volume in liters: '))\n",
    "t = float(input('the temperature in degrees Kelvin: '))\n",
    "r = 8.314\n",
    "n = p*v/r*t\n",
    "print('the number of moles of gas in a SCUBA tank is', n)"
   ]
  },
  {
   "cell_type": "code",
   "execution_count": 11,
   "metadata": {},
   "outputs": [
    {
     "name": "stdout",
     "output_type": "stream",
     "text": [
      "the length of the base of the triangle: 3\n",
      "height: 4\n",
      "the area of a triangle is 6.0\n"
     ]
    }
   ],
   "source": [
    "#21\n",
    "b = float(input(\"the length of the base of the triangle: \"))\n",
    "h = float(input(\"height: \"))\n",
    "a = b*h/2\n",
    "print('the area of a triangle is', a)"
   ]
  },
  {
   "cell_type": "code",
   "execution_count": 16,
   "metadata": {},
   "outputs": [
    {
     "name": "stdout",
     "output_type": "stream",
     "text": [
      "4\n",
      "5\n",
      "6\n",
      "the area of a triangle is 9.921567416492215\n"
     ]
    }
   ],
   "source": [
    "#22\n",
    "from math import sqrt\n",
    "s1 = float(input())\n",
    "s2 = float(input())\n",
    "s3 = float(input())\n",
    "s = (s1+s2+s3)/2\n",
    "area = sqrt(s*(s-s1)*(s-s2)*(s-s3))\n",
    "print('the area of a triangle is', area)"
   ]
  },
  {
   "cell_type": "code",
   "execution_count": 18,
   "metadata": {},
   "outputs": [
    {
     "name": "stdout",
     "output_type": "stream",
     "text": [
      "the length of a side: 3\n",
      "the number of sides: 5\n",
      "the area of a regular polygon is 8.17360344006031\n"
     ]
    }
   ],
   "source": [
    "#23\n",
    "from math import tan\n",
    "s = float(input('the length of a side: '))\n",
    "n = int(input('the number of sides: '))\n",
    "area = n*s**2/4*tan(pi/n)\n",
    "print(\"the area of a regular polygon is\", area)"
   ]
  },
  {
   "cell_type": "code",
   "execution_count": 19,
   "metadata": {},
   "outputs": [
    {
     "name": "stdout",
     "output_type": "stream",
     "text": [
      "days:1\n",
      "hours: 1\n",
      "minutes: 1\n",
      "seconds: 1\n",
      "total number of seconds is  90061\n"
     ]
    }
   ],
   "source": [
    "#24\n",
    "day = int(input('days:'))\n",
    "hour = int(input('hours: '))\n",
    "minute = int(input('minutes: '))\n",
    "second = int(input('seconds: '))\n",
    "total = second + minute*60 + hour*3600 + day*86400\n",
    "print(\"total number of seconds is \", total)"
   ]
  },
  {
   "cell_type": "code",
   "execution_count": 10,
   "metadata": {},
   "outputs": [
    {
     "name": "stdout",
     "output_type": "stream",
     "text": [
      "seconds: 90062\n",
      "01:01:01:02\n"
     ]
    }
   ],
   "source": [
    "#25\n",
    "seconds = int(input('seconds: '))\n",
    "day = seconds//86400\n",
    "hour = (seconds%86400)//3600\n",
    "minute = (seconds%86400%3600)//60\n",
    "second = seconds%86400%3600%60\n",
    "print(\"{:02d}:{:02d}:{:02d}:{:02d}\".format(day, hour, minute, second))"
   ]
  },
  {
   "cell_type": "code",
   "execution_count": 12,
   "metadata": {},
   "outputs": [
    {
     "name": "stdout",
     "output_type": "stream",
     "text": [
      "the current time and date: Tue Sep  8 22:18:50 2020\n"
     ]
    }
   ],
   "source": [
    "#26\n",
    "import time\n",
    "cur_time = time.asctime( time.localtime(time.time()))\n",
    "print('the current time and date:', cur_time)"
   ]
  },
  {
   "cell_type": "code",
   "execution_count": 14,
   "metadata": {},
   "outputs": [
    {
     "name": "stdout",
     "output_type": "stream",
     "text": [
      "Your height in m: 1.63\n",
      "Your weight in kg: 53\n",
      "BMI is 19.94805976890361\n"
     ]
    }
   ],
   "source": [
    "#27\n",
    "height = float(input('Your height in m: '))\n",
    "weight = float(input('Your weight in kg: '))\n",
    "bmi = weight/height**2\n",
    "print('BMI is', bmi)"
   ]
  },
  {
   "cell_type": "code",
   "execution_count": 18,
   "metadata": {},
   "outputs": [
    {
     "name": "stdout",
     "output_type": "stream",
     "text": [
      "the air temperature in degrees C: 9\n",
      "the wind speed in km/h: 140\n",
      "WCI is 1.51\n"
     ]
    }
   ],
   "source": [
    "#28\n",
    "t = float(input('the air temperature in degrees C: '))\n",
    "v = float(input('the wind speed in km/h: '))\n",
    "wci = 13.12 + 0.62158*t - 11.37*v**0.16 + 0.3965*t*v**0.16\n",
    "print(\"WCI is\", round(wci))"
   ]
  },
  {
   "cell_type": "code",
   "execution_count": 19,
   "metadata": {},
   "outputs": [
    {
     "name": "stdout",
     "output_type": "stream",
     "text": [
      "temperature in degrees Celsius: 0\n",
      "temperature in degrees Fahrenheit: 32.0 F\n",
      "temperature in degrees Kelvin: 273.15 K\n"
     ]
    }
   ],
   "source": [
    "#29\n",
    "tC = float(input('temperature in degrees Celsius: '))\n",
    "tF = tC*9/5 + 32\n",
    "tK = tC+273.15\n",
    "print('temperature in degrees Fahrenheit:', tF,'F')\n",
    "print('temperature in degrees Kelvin:', tK, 'K')"
   ]
  },
  {
   "cell_type": "code",
   "execution_count": 20,
   "metadata": {},
   "outputs": [
    {
     "name": "stdout",
     "output_type": "stream",
     "text": [
      "pressure in kilopascals: 5\n",
      "pressure in pounds per square inch: 0.7251631617113851 psi\n",
      "pressure in millimeters of mercury: 37.505 mmHg\n",
      "pressure in atmospheres 0.04950495049504951 atm\n"
     ]
    }
   ],
   "source": [
    "#30\n",
    "p = float(input('pressure in kilopascals: '))\n",
    "p1 = p/6.895\n",
    "p2 = p*7.501\n",
    "p3 = p/101\n",
    "print('pressure in pounds per square inch:', p1, 'psi')\n",
    "print('pressure in millimeters of mercury:', p2, 'mmHg')\n",
    "print('pressure in atmospheres:', p3, 'atm')"
   ]
  },
  {
   "cell_type": "code",
   "execution_count": 21,
   "metadata": {},
   "outputs": [
    {
     "name": "stdout",
     "output_type": "stream",
     "text": [
      "four-digit integer:1234\n",
      "the sum of the digits: 10\n"
     ]
    }
   ],
   "source": [
    "#31\n",
    "n = int(input('four-digit integer:'))\n",
    "n1 = n%10\n",
    "n2 = n%100//10\n",
    "n3 = n%1000//100\n",
    "n4 = n//1000\n",
    "sum = n1+n2+n3+n4\n",
    "print('the sum of the digits:', sum)"
   ]
  },
  {
   "cell_type": "code",
   "execution_count": 29,
   "metadata": {},
   "outputs": [
    {
     "name": "stdout",
     "output_type": "stream",
     "text": [
      "4\n",
      "5\n",
      "1\n",
      "1 4 5\n"
     ]
    }
   ],
   "source": [
    "#32\n",
    "n1 = int(input())\n",
    "n2 = int(input())\n",
    "n3 = int(input())\n",
    "nmax = max(n1, n2, n3)\n",
    "nmin = min(n1, n2, n3)\n",
    "num = n1+n2+n3\n",
    "mid = num-nmax-nmin\n",
    "print(nmin, mid, nmax)"
   ]
  },
  {
   "cell_type": "code",
   "execution_count": 33,
   "metadata": {},
   "outputs": [
    {
     "name": "stdout",
     "output_type": "stream",
     "text": [
      "60\n",
      "regular price: 209.40\n",
      "discount: 125.64\n",
      "total price: 83.76\n"
     ]
    }
   ],
   "source": [
    "#33\n",
    "bread = int(input())\n",
    "price = bread * 3.49\n",
    "discount = price * 0.6\n",
    "total = price-discount\n",
    "print('regular price: {:.2f}'.format(round(price, 2)))\n",
    "print('discount: {:.2f}'.format(round(discount,2)))\n",
    "print('total price: {:.2f}'.format(round(total, 2)))"
   ]
  }
 ],
 "metadata": {
  "kernelspec": {
   "display_name": "Python 3",
   "language": "python",
   "name": "python3"
  },
  "language_info": {
   "codemirror_mode": {
    "name": "ipython",
    "version": 3
   },
   "file_extension": ".py",
   "mimetype": "text/x-python",
   "name": "python",
   "nbconvert_exporter": "python",
   "pygments_lexer": "ipython3",
   "version": "3.8.3"
  }
 },
 "nbformat": 4,
 "nbformat_minor": 4
}

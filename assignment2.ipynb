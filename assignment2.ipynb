{
 "cells": [
  {
   "cell_type": "code",
   "execution_count": 2,
   "metadata": {},
   "outputs": [
    {
     "name": "stdout",
     "output_type": "stream",
     "text": [
      "5\n",
      "6\n",
      "7\n",
      "8\n",
      "No\n"
     ]
    }
   ],
   "source": [
    "#1 Chess rook walks horizontally or vertically\n",
    "column1 = input()\n",
    "line1 = input()\n",
    "column2 = input()\n",
    "line2 = input()\n",
    "if column1 == column2 or line1 == line2:\n",
    "    print('Yes')\n",
    "else:\n",
    "    print('No')"
   ]
  },
  {
   "cell_type": "code",
   "execution_count": 8,
   "metadata": {},
   "outputs": [
    {
     "name": "stdout",
     "output_type": "stream",
     "text": [
      "6\n",
      "3\n",
      "7\n",
      "2\n",
      "YES\n"
     ]
    }
   ],
   "source": [
    "#2 Chess king walks horizontally, vertically and diagonally, but only on one cell\n",
    "column1 = int(input())\n",
    "line1 = int(input())\n",
    "column2 = int(input())\n",
    "line2 = int(input())\n",
    "if (column1-column2 == -1 or column1-column2 == 0 or column1-column2 == 1) and (-1 <= line1-line2 <= 1):\n",
    "    print('YES')\n",
    "else:\n",
    "    print('NO')"
   ]
  },
  {
   "cell_type": "code",
   "execution_count": 10,
   "metadata": {},
   "outputs": [
    {
     "name": "stdout",
     "output_type": "stream",
     "text": [
      "5\n",
      "7\n",
      "8\n",
      "4\n",
      "YES\n"
     ]
    }
   ],
   "source": [
    "#3 Chess elephant walks diagonally\n",
    "column1 = int(input())\n",
    "line1 = int(input())\n",
    "column2 = int(input())\n",
    "line2 = int(input())\n",
    "if column1-column2 == line2-line1 or column1-column2 == line1-line2:\n",
    "    print('YES')\n",
    "else:\n",
    "    print('NO')"
   ]
  },
  {
   "cell_type": "code",
   "execution_count": 11,
   "metadata": {},
   "outputs": [
    {
     "name": "stdout",
     "output_type": "stream",
     "text": [
      "5\n",
      "6\n",
      "7\n",
      "8\n",
      "YES\n"
     ]
    }
   ],
   "source": [
    "#4 The chess queen walks diagonally, horizontally or vertically\n",
    "column1 = int(input())\n",
    "line1 = int(input())\n",
    "column2 = int(input())\n",
    "line2 = int(input())\n",
    "if column1-column2 == line2-line1 or column1-column2 == line1-line2 or column1 == column2 or line1 == line2:\n",
    "    print('YES')\n",
    "else:\n",
    "    print('NO')"
   ]
  },
  {
   "cell_type": "code",
   "execution_count": 18,
   "metadata": {},
   "outputs": [
    {
     "name": "stdout",
     "output_type": "stream",
     "text": [
      "5\n",
      "6\n",
      "7\n",
      "8\n",
      "NO\n"
     ]
    }
   ],
   "source": [
    "#5 Г\n",
    "column1 = int(input())\n",
    "line1 = int(input())\n",
    "column2 = int(input())\n",
    "line2 = int(input())\n",
    "if (column1-column2 == 1 or column2-column1 == 1) and (line1-line2 == 2 or line2-line1 == 2):\n",
    "    print('YES')\n",
    "elif (column1-column2 == 2 or column2-column1 == 2) and (line1-line2 == 1 or line2-line1 == 1):\n",
    "    print('YES')\n",
    "else:\n",
    "    print('NO')"
   ]
  },
  {
   "cell_type": "code",
   "execution_count": 17,
   "metadata": {},
   "outputs": [
    {
     "name": "stdout",
     "output_type": "stream",
     "text": [
      "9\n",
      "3\n",
      "6\n",
      "YES\n"
     ]
    }
   ],
   "source": [
    "#6 chocolate\n",
    "n = int(input())\n",
    "m = int(input())\n",
    "k = int(input())\n",
    "a = n*m\n",
    "if (a-n)%k==0 or (a-m)%k==0 and a<k:\n",
    "    print('YES')\n",
    "else:\n",
    "    print('NO')"
   ]
  },
  {
   "cell_type": "code",
   "execution_count": 25,
   "metadata": {},
   "outputs": [
    {
     "name": "stdout",
     "output_type": "stream",
     "text": [
      "58\n",
      "23\n",
      "8\n",
      "43\n",
      "8\n"
     ]
    }
   ],
   "source": [
    "#7 pool\n",
    "n = int(input())\n",
    "m = int(input())\n",
    "x = int(input())\n",
    "y = int(input())\n",
    "if n>m:\n",
    "    temp = m\n",
    "    m = n\n",
    "    n = temp # m-bigger, n small\n",
    "if x>n/2:\n",
    "    x = n-x\n",
    "if y>m/2:\n",
    "    y = m-y\n",
    "if x>y:\n",
    "    print(y)\n",
    "else:\n",
    "    print(x)"
   ]
  },
  {
   "cell_type": "code",
   "execution_count": 5,
   "metadata": {},
   "outputs": [
    {
     "name": "stdout",
     "output_type": "stream",
     "text": [
      "5\n",
      "4\n",
      "7\n",
      "4 5 7\n"
     ]
    }
   ],
   "source": [
    "#8\n",
    "n1 = int(input())\n",
    "n2 = int(input())\n",
    "n3 = int(input())\n",
    "if n1>n2:\n",
    "    n1, n2 = n2, n1\n",
    "if n1>n3:\n",
    "    n1, n3 = n3, n1\n",
    "if n2>n3:\n",
    "    n2, n3 = n3, n2\n",
    "print(n1, n2, n3)"
   ]
  },
  {
   "cell_type": "code",
   "execution_count": 1,
   "metadata": {},
   "outputs": [
    {
     "name": "stdout",
     "output_type": "stream",
     "text": [
      "1\n",
      "1\n",
      "1\n",
      "2\n",
      "1\n",
      "1\n",
      "The first box is smaller than the second one\n"
     ]
    }
   ],
   "source": [
    "#9 boxes\n",
    "a1 = int(input())\n",
    "b1 = int(input())\n",
    "c1 = int(input())\n",
    "a2 = int(input())\n",
    "b2 = int(input())\n",
    "c2 = int(input())\n",
    "if a1 > b1:\n",
    "    a1, b1 = b1, a1\n",
    "if b1 > c1:\n",
    "    b1, c1 = c1, b1\n",
    "if a1 > b1:\n",
    "    a1, b1 = b1, a1\n",
    "if a2 > b2:\n",
    "    a2, b2 = b2, a2\n",
    "if b2 > c2:\n",
    "    b2, c2 = c2, b2\n",
    "if a2 > b2:\n",
    "    a2, b2 = b2, a2\n",
    "if a1 == a2 and b1 == b2 and c1 == c2:\n",
    "    print('Boxes are equal')\n",
    "elif a1 <= a2 and b1 <= b2 and c1 <= c2:\n",
    "    print('The first box is smaller than the second one')\n",
    "elif a1 >= a2 and b1 >= b2 and c1 >= c2:\n",
    "    print('The first box is larger than the second one')\n",
    "else:\n",
    "    print('Boxes are incomparable')"
   ]
  },
  {
   "cell_type": "code",
   "execution_count": 33,
   "metadata": {},
   "outputs": [
    {
     "name": "stdout",
     "output_type": "stream",
     "text": [
      "50\n",
      "1\n",
      "4\n",
      "9\n",
      "16\n",
      "25\n",
      "36\n",
      "49\n"
     ]
    }
   ],
   "source": [
    "#10\n",
    "N = int(input())\n",
    "count = 1\n",
    "while N>count**2:\n",
    "    print(count**2)\n",
    "    count = count + 1"
   ]
  },
  {
   "cell_type": "code",
   "execution_count": 35,
   "metadata": {},
   "outputs": [
    {
     "name": "stdout",
     "output_type": "stream",
     "text": [
      "15\n",
      "3\n"
     ]
    }
   ],
   "source": [
    "#11\n",
    "n = int(input())\n",
    "num = 1\n",
    "while True:\n",
    "    num = num + 1\n",
    "    if n%num == 0:\n",
    "        break\n",
    "print(num)"
   ]
  },
  {
   "cell_type": "code",
   "execution_count": 40,
   "metadata": {},
   "outputs": [
    {
     "name": "stdout",
     "output_type": "stream",
     "text": [
      "5\n",
      "5\n"
     ]
    }
   ],
   "source": [
    "#11\n",
    "n = int(input())\n",
    "num = 2\n",
    "while n%num !=0:\n",
    "    num = num + 1\n",
    "print(num)"
   ]
  },
  {
   "cell_type": "code",
   "execution_count": 42,
   "metadata": {},
   "outputs": [
    {
     "name": "stdout",
     "output_type": "stream",
     "text": [
      "4\n",
      "1\n",
      "2\n"
     ]
    }
   ],
   "source": [
    "#12\n",
    "N = int(input())\n",
    "count = 0\n",
    "while N>2**count:\n",
    "    print(2**count)\n",
    "    count = count + 1"
   ]
  },
  {
   "cell_type": "code",
   "execution_count": 3,
   "metadata": {},
   "outputs": [
    {
     "name": "stdout",
     "output_type": "stream",
     "text": [
      "1\n",
      "2\n",
      "3\n",
      "7\n",
      "0\n",
      "13\n"
     ]
    }
   ],
   "source": [
    "#13\n",
    "n = int(input())\n",
    "sum = 0\n",
    "while n!=0:\n",
    "    sum = sum+n\n",
    "    n = int(input())\n",
    "print(sum)"
   ]
  },
  {
   "cell_type": "code",
   "execution_count": 12,
   "metadata": {},
   "outputs": [
    {
     "name": "stdout",
     "output_type": "stream",
     "text": [
      "1\n",
      "3\n",
      "3\n",
      "1\n",
      "0\n",
      "2\n"
     ]
    }
   ],
   "source": [
    "#14\n",
    "n = int(input())\n",
    "max = n\n",
    "while n!=0:\n",
    "    n = int(input())\n",
    "    if n>max:\n",
    "        max = n\n",
    "        count = 1\n",
    "    elif n == max:\n",
    "        count = count + 1\n",
    "print(count)"
   ]
  },
  {
   "cell_type": "code",
   "execution_count": 7,
   "metadata": {},
   "outputs": [
    {
     "name": "stdout",
     "output_type": "stream",
     "text": [
      "8\n",
      "6\n"
     ]
    }
   ],
   "source": [
    "#15\n",
    "A = int(input())\n",
    "count = 1\n",
    "f0 = 0\n",
    "f1 = 1\n",
    "fn = 1\n",
    "while fn<A:\n",
    "    fn = f0 + f1\n",
    "    f0 = f1\n",
    "    f1 = fn\n",
    "    count = count+1\n",
    "if fn==A:\n",
    "    print(count)\n",
    "else:\n",
    "    print(-1)"
   ]
  },
  {
   "cell_type": "code",
   "execution_count": 8,
   "metadata": {},
   "outputs": [
    {
     "name": "stdout",
     "output_type": "stream",
     "text": [
      "5\n",
      "5\n",
      "5\n",
      "5\n",
      "0\n",
      "0\n"
     ]
    }
   ],
   "source": [
    "#16\n",
    "s = int(input())\n",
    "pr = s\n",
    "s = int(input())\n",
    "cur = s\n",
    "count = 0\n",
    "while s!=0:\n",
    "    s = int(input())\n",
    "    next = s\n",
    "    if pr<cur and next<cur:\n",
    "        count = count+1\n",
    "    pr = cur\n",
    "    cur = next\n",
    "print(count)\n",
    "        "
   ]
  },
  {
   "cell_type": "code",
   "execution_count": 29,
   "metadata": {},
   "outputs": [
    {
     "name": "stdout",
     "output_type": "stream",
     "text": [
      "6\n",
      "1 2 2 3 3 3\n",
      "3\n"
     ]
    }
   ],
   "source": [
    "#17\n",
    "n = int(input())\n",
    "a = [int(x) for x in input().split()]\n",
    "cnt=1\n",
    "for i in range(0, n-1):\n",
    "    if a[i]!=a[i+1]:\n",
    "        cnt+=1\n",
    "print(cnt)"
   ]
  },
  {
   "cell_type": "code",
   "execution_count": 19,
   "metadata": {},
   "outputs": [
    {
     "name": "stdout",
     "output_type": "stream",
     "text": [
      "5\n",
      "1 1 2 3 2\n",
      "2\n"
     ]
    }
   ],
   "source": [
    "#19\n",
    "n = int(input())\n",
    "a = [int(x) for x in input().split()]\n",
    "cnt=0\n",
    "for i in range(n):\n",
    "    for j in range(i+1, n):\n",
    "        if a[i] == a[j]:\n",
    "            cnt+=1\n",
    "print(cnt)"
   ]
  },
  {
   "cell_type": "code",
   "execution_count": 25,
   "metadata": {},
   "outputs": [
    {
     "name": "stdout",
     "output_type": "stream",
     "text": [
      "5 \n",
      "1 2 3 4 5\n",
      "[2, 3, 4, 5, 1]\n"
     ]
    }
   ],
   "source": [
    "#18\n",
    "n = int(input())\n",
    "a = [int(x) for x in input().split()]\n",
    "temp = a[0]\n",
    "for i in range(1, n):\n",
    "    a[i-1]=a[i]\n",
    "a[n-1]=temp\n",
    "print(a)\n"
   ]
  },
  {
   "cell_type": "code",
   "execution_count": 4,
   "metadata": {},
   "outputs": [
    {
     "name": "stdout",
     "output_type": "stream",
     "text": [
      "10 3\n",
      "5 6\n",
      "4 5\n",
      "4 4\n",
      "III...IIII\n"
     ]
    }
   ],
   "source": [
    "#20\n",
    "n, k = [int(x) for x in input().split()]\n",
    "b = ['I'] * n\n",
    "for i in range(k):\n",
    "    left, right = [int(x) for x in input().split()]\n",
    "    for j in range(left - 1, right):\n",
    "        b[j] = '.'\n",
    "print(''.join(b))"
   ]
  },
  {
   "cell_type": "markdown",
   "metadata": {},
   "source": []
  }
 ],
 "metadata": {
  "kernelspec": {
   "display_name": "Python 3",
   "language": "python",
   "name": "python3"
  },
  "language_info": {
   "codemirror_mode": {
    "name": "ipython",
    "version": 3
   },
   "file_extension": ".py",
   "mimetype": "text/x-python",
   "name": "python",
   "nbconvert_exporter": "python",
   "pygments_lexer": "ipython3",
   "version": "3.8.3"
  }
 },
 "nbformat": 4,
 "nbformat_minor": 4
}
